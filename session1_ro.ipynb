{
 "cells": [
  {
   "cell_type": "markdown",
   "metadata": {},
   "source": [
    "Avem o populatie de agenti. fiecare agent are o preferinta \n",
    "asupra procentului de vecini care sa fie de acelasi tip. \n",
    "daca un agent este inconjurat de mai multi vecini de tipuri \n",
    "diferite decat poate \"tolera\", agentul se muta intr-o zona in \n",
    "care nu se intampla acest lucru. \n",
    "\n",
    "Pentru a evolua sistemul, la fiecare iteratie, alegem agenti la \n",
    "intamplare si stabilim daca acestia se muta sau nu.\n",
    "\n",
    "1. Definim un agent\n",
    "2. Definim un spatiu (mediu) unde se gasesc agentii\n",
    "3. Mecanism pentru a determina cati vecini are un agent\n",
    "4. Mecanism prin care sa determinam daca preferintele unui agent sunt incalcate\n",
    "5. Tipurile de agenti \n",
    "6. Lista de agenti \n",
    "7. Stabilim pentru fiecare agent ce preferinta are\n",
    "8. Un mecanism prin care sa determinam unde se pot muta \n",
    "9. Reguli pentru a defini preferintele?\n",
    "10. Un mecanism pentru a alege la intamplare agentii in timpul fiecarei iteratii \n",
    "a.i. sa nu alegem de mai multe ori acelasi agent\n",
    "11. Mecanism pentru a rula simularea pentru mai multe iteratii\n",
    "12. Sa vizualizam simularea (pas cu pas sau pentru fiecare iteratie)\n",
    "\n",
    "### ---- Pasul 1 ---- ###\n",
    "Ce date trebuie sa tinem minte pentru un agent?\n",
    "- id\n",
    "- preferintele\n",
    "- coordonate (locatie)\n",
    "- tipul\n",
    "\n",
    "Cum reprezentam in memorie un agent?\n",
    "\n",
    "- O lista cu toate informatiile \n",
    "- Un obiect \n",
    "- Dictionar (JSON)\n",
    "\n",
    "### --- Pasul 2 ---- ###\n",
    "Definim spatiul = o lista de liste (o matrice)\n",
    "\n",
    "### --- Pasul 3 ---- ### \n",
    "Definim o metoda sa calculam numarul de vecini (get_neighbor_coords())"
   ]
  },
  {
   "cell_type": "code",
   "execution_count": 13,
   "metadata": {},
   "outputs": [],
   "source": [
    "# define agent types\n",
    "agent_types = [\"type1\", \"type2\"]\n",
    "\n",
    "# create an agent as an empty list\n",
    "agent = []\n",
    "\n",
    "# assign an id to our agent, 1\n",
    "agent.append(1)\n",
    "\n",
    "# assign a type \n",
    "agent.append(agent_types[0])\n",
    "\n",
    "# assign coordinates \n",
    "coord = {\n",
    "    \"row\": 10,\n",
    "    \"col\": 20\n",
    " } # randul si coloana din spatiul 2D\n",
    "agent.append(coord)\n",
    "\n",
    "# assign preferences\n",
    "preferences = {\n",
    "    \"type1\": 0.9,\n",
    "    \"type2\": 0.1\n",
    "}\n",
    "agent.append(preferences)\n",
    "\n",
    "agent\n",
    "\n",
    "def create_agent(agent_id, agent_type, coords, preferences):\n",
    "    agent = [agent_id, agent_type, coords, preferences]\n",
    "    return agent "
   ]
  },
  {
   "cell_type": "code",
   "execution_count": 7,
   "metadata": {},
   "outputs": [
    {
     "data": {
      "text/plain": [
       "[10, 20]"
      ]
     },
     "execution_count": 7,
     "metadata": {},
     "output_type": "execute_result"
    }
   ],
   "source": [
    "agent[2] "
   ]
  },
  {
   "cell_type": "code",
   "execution_count": 9,
   "metadata": {},
   "outputs": [
    {
     "data": {
      "text/plain": [
       "[1, 'type1', [20, 14], [0.9, 0.1]]"
      ]
     },
     "execution_count": 9,
     "metadata": {},
     "output_type": "execute_result"
    }
   ],
   "source": [
    "agent[2] = [20, 14]\n",
    "agent"
   ]
  },
  {
   "cell_type": "code",
   "execution_count": 24,
   "metadata": {},
   "outputs": [],
   "source": [
    "# Define environment\n",
    "def create_environment(n_rows=15, n_cols=15):\n",
    "    environment = []\n",
    "    for i in range(n_rows):\n",
    "        row = []\n",
    "        for j in range(n_cols):\n",
    "            row.append(-1)\n",
    "        environment.append(row)\n",
    "    return environment"
   ]
  },
  {
   "cell_type": "code",
   "execution_count": 25,
   "metadata": {},
   "outputs": [
    {
     "output_type": "execute_result",
     "data": {
      "text/plain": [
       "[[-1, -1, -1, -1, -1, -1, -1, -1, -1, -1],\n",
       " [-1, -1, -1, -1, -1, -1, -1, -1, -1, -1],\n",
       " [-1, -1, -1, -1, -1, -1, -1, -1, -1, -1],\n",
       " [-1, -1, -1, -1, -1, -1, -1, -1, -1, -1],\n",
       " [-1, -1, -1, -1, -1, -1, -1, -1, -1, -1],\n",
       " [-1, -1, -1, -1, -1, -1, -1, -1, -1, -1],\n",
       " [-1, -1, -1, -1, -1, -1, -1, -1, -1, -1],\n",
       " [-1, -1, -1, -1, -1, -1, -1, -1, -1, -1],\n",
       " [-1, -1, -1, -1, -1, -1, -1, -1, -1, -1],\n",
       " [-1, -1, -1, -1, -1, -1, -1, -1, -1, -1]]"
      ]
     },
     "metadata": {},
     "execution_count": 25
    }
   ],
   "source": [
    "environment1 = create_environment(10, 10)\n",
    "environment1"
   ]
  },
  {
   "cell_type": "code",
   "execution_count": 26,
   "metadata": {},
   "outputs": [
    {
     "output_type": "execute_result",
     "data": {
      "text/plain": [
       "[[-1, -1, -1, -1, -1, -1, -1, -1, -1, -1, -1, -1, -1, -1, -1],\n",
       " [-1, -1, -1, -1, -1, -1, -1, -1, -1, -1, -1, -1, -1, -1, -1],\n",
       " [-1, -1, -1, -1, -1, -1, -1, -1, -1, -1, -1, -1, -1, -1, -1],\n",
       " [-1, -1, -1, -1, -1, -1, -1, -1, -1, -1, -1, -1, -1, -1, -1],\n",
       " [-1, -1, -1, -1, -1, -1, -1, -1, -1, -1, -1, -1, -1, -1, -1],\n",
       " [-1, -1, -1, -1, -1, -1, -1, -1, -1, -1, -1, -1, -1, -1, -1],\n",
       " [-1, -1, -1, -1, -1, -1, -1, -1, -1, -1, -1, -1, -1, -1, -1],\n",
       " [-1, -1, -1, -1, -1, -1, -1, -1, -1, -1, -1, -1, -1, -1, -1],\n",
       " [-1, -1, -1, -1, -1, -1, -1, -1, -1, -1, -1, -1, -1, -1, -1],\n",
       " [-1, -1, -1, -1, -1, -1, -1, -1, -1, -1, -1, -1, -1, -1, -1],\n",
       " [-1, -1, -1, -1, -1, -1, -1, -1, -1, -1, -1, -1, -1, -1, -1],\n",
       " [-1, -1, -1, -1, -1, -1, -1, -1, -1, -1, -1, -1, -1, -1, -1],\n",
       " [-1, -1, -1, -1, -1, -1, -1, -1, -1, -1, -1, -1, -1, -1, -1],\n",
       " [-1, -1, -1, -1, -1, -1, -1, -1, -1, -1, -1, -1, -1, -1, -1],\n",
       " [-1, -1, -1, -1, -1, -1, -1, -1, -1, -1, -1, -1, -1, -1, -1]]"
      ]
     },
     "metadata": {},
     "execution_count": 26
    }
   ],
   "source": [
    "environment2 = create_environment()\n",
    "environment2"
   ]
  },
  {
   "cell_type": "code",
   "execution_count": 27,
   "metadata": {},
   "outputs": [
    {
     "output_type": "execute_result",
     "data": {
      "text/plain": [
       "[[-1, -1, -1, -1, -1, -1, -1, -1, -1, -1, -1, -1, -1, -1, -1],\n",
       " [-1, -1, -1, -1, -1, -1, -1, -1, -1, -1, -1, -1, -1, -1, -1],\n",
       " [-1, -1, -1, -1, -1, -1, -1, -1, -1, -1, -1, -1, -1, -1, -1],\n",
       " [-1, -1, -1, -1, -1, -1, -1, -1, -1, -1, -1, -1, -1, -1, -1],\n",
       " [-1, -1, -1, -1, -1, -1, -1, -1, -1, -1, -1, -1, -1, -1, -1],\n",
       " [-1, -1, -1, -1, -1, -1, -1, -1, -1, -1, -1, -1, -1, -1, -1],\n",
       " [-1, -1, -1, -1, -1, -1, -1, -1, -1, -1, -1, -1, -1, -1, -1],\n",
       " [-1, -1, -1, -1, -1, -1, -1, -1, -1, -1, -1, -1, -1, -1, -1],\n",
       " [-1, -1, -1, -1, -1, -1, -1, -1, -1, -1, -1, -1, -1, -1, -1],\n",
       " [-1, -1, -1, -1, -1, -1, -1, -1, -1, -1, -1, -1, -1, -1, -1]]"
      ]
     },
     "metadata": {},
     "execution_count": 27
    }
   ],
   "source": [
    "environment3 = create_environment(10)\n",
    "environment3"
   ]
  },
  {
   "cell_type": "code",
   "execution_count": 28,
   "metadata": {},
   "outputs": [],
   "source": [
    "def get_neighbor_coords(row, col, n_rows, n_cols):\n",
    "    # define matrix to specify neighbor coordinates\n",
    "    coords = [\n",
    "        [-1, -1],\n",
    "        [0, -1],\n",
    "        [1, -1],\n",
    "        [-1, 0],\n",
    "        [1, 0],\n",
    "        [-1, 1],\n",
    "        [0, 1],\n",
    "        [1, 1]\n",
    "    ]\n",
    "\n",
    "    # get coordinates for every neighbor, starting with (x, y)\n",
    "    neighbor_coords = []\n",
    "    for coord in coords:\n",
    "        neighbor = {\n",
    "            \"row\": row + coord[0],\n",
    "            \"col\": col + coord[1]\n",
    "        }\n",
    "        # eliminate invalid neighbors\n",
    "        if neighbor[\"col\"] >= 0 and neighbor[\"col\"] < n_cols and neighbor[\"row\"] >= 0 and neighbor[\"row\"] < n_rows:\n",
    "            neighbor_coords.append(neighbor)\n",
    "    return neighbor_coords"
   ]
  },
  {
   "cell_type": "code",
   "execution_count": 29,
   "metadata": {},
   "outputs": [
    {
     "output_type": "execute_result",
     "data": {
      "text/plain": [
       "[{'row': 4, 'col': 4},\n",
       " {'row': 5, 'col': 4},\n",
       " {'row': 6, 'col': 4},\n",
       " {'row': 4, 'col': 5},\n",
       " {'row': 6, 'col': 5},\n",
       " {'row': 4, 'col': 6},\n",
       " {'row': 5, 'col': 6},\n",
       " {'row': 6, 'col': 6}]"
      ]
     },
     "metadata": {},
     "execution_count": 29
    }
   ],
   "source": [
    "x_max = 10\n",
    "y_max = 15\n",
    "get_neighbor_coords(5, 5, x_max, y_max)"
   ]
  },
  {
   "cell_type": "code",
   "execution_count": 30,
   "metadata": {},
   "outputs": [
    {
     "output_type": "execute_result",
     "data": {
      "text/plain": [
       "[[0, 1, 0, 0, -1, 1, -1, 0, 0, 1, -1, -1, -1, 1, 0, -1, -1, -1, -1, 1],\n",
       " [-1, 1, 1, 1, -1, -1, -1, 1, 0, 0, 0, 0, -1, -1, -1, 1, -1, 1, 1, -1],\n",
       " [1, -1, -1, 1, -1, -1, 1, -1, -1, 1, -1, 1, 0, -1, 1, 0, 0, 0, -1, -1],\n",
       " [0, 1, 0, -1, -1, -1, -1, -1, -1, 1, 1, 0, -1, -1, 1, -1, 0, -1, -1, 0],\n",
       " [0, 0, -1, -1, -1, 1, -1, 0, -1, -1, 1, -1, 0, 0, 1, 1, 0, 1, 1, -1],\n",
       " [-1, -1, 0, 1, -1, -1, -1, 0, -1, -1, 1, -1, 0, -1, 0, -1, -1, 0, -1, -1],\n",
       " [-1, 1, -1, 0, -1, 0, 0, 0, -1, -1, 0, 0, -1, 1, -1, -1, 1, -1, 1, 0],\n",
       " [1, 0, -1, 1, 0, -1, 0, -1, -1, -1, 0, 0, 0, 1, -1, 0, 0, -1, -1, -1],\n",
       " [1, -1, -1, -1, 1, -1, 0, 1, -1, 1, -1, 1, -1, -1, -1, -1, 1, -1, -1, -1],\n",
       " [1, 0, -1, -1, 1, -1, -1, 1, -1, 1, -1, -1, 1, 1, 1, -1, 1, -1, 0, 1],\n",
       " [-1, 0, 0, 1, 0, -1, -1, -1, -1, 0, -1, 0, -1, -1, -1, 0, -1, 1, -1, -1],\n",
       " [1, -1, 0, -1, 1, 0, -1, 0, -1, 1, 0, 1, -1, -1, 0, 1, 1, 1, -1, -1],\n",
       " [-1, -1, 1, -1, 0, -1, -1, 0, 1, -1, -1, -1, -1, 1, 0, -1, 0, 0, -1, -1],\n",
       " [-1, 0, 0, -1, -1, 1, 0, 1, -1, -1, 0, 0, 1, -1, 1, 1, -1, 0, 0, 1],\n",
       " [-1, -1, 1, 1, 1, -1, -1, -1, 0, -1, 0, 1, -1, -1, 0, 0, -1, -1, 0, 0],\n",
       " [-1, 0, 0, -1, -1, 0, -1, -1, -1, 1, 1, 0, 1, -1, -1, 1, -1, 0, 0, -1],\n",
       " [1, -1, -1, -1, -1, 0, -1, 0, 0, 1, 0, 0, -1, -1, 0, 0, -1, 0, -1, 0],\n",
       " [-1, -1, -1, 1, -1, -1, 0, -1, 1, -1, 1, 0, 0, -1, -1, 0, -1, -1, 0, 0],\n",
       " [0, 0, 1, -1, -1, -1, -1, 1, 0, 1, -1, -1, -1, 1, 1, 1, -1, -1, -1, -1],\n",
       " [1, -1, -1, -1, 0, 1, 0, 1, 1, -1, 1, -1, -1, 0, -1, 0, -1, 1, 0, -1]]"
      ]
     },
     "metadata": {},
     "execution_count": 30
    }
   ],
   "source": [
    "import random \n",
    "\n",
    "n_rows = 20\n",
    "n_cols = 20\n",
    "enviroment = create_environment(n_rows=n_rows, n_cols=n_cols)\n",
    "\n",
    "n_agents = int(0.7 * n_rows * n_cols)\n",
    "\n",
    "agents = []\n",
    "for i in range(n_agents):\n",
    "    location = {\n",
    "        \"row\": random.randint(0, n_rows-1),\n",
    "        \"col\": random.randint(0, n_cols-1)\n",
    "    }\n",
    "    agent_type_index = random.randint(0, 1)\n",
    "\n",
    "    # preferences sets the maximum % of neighbors of a given type\n",
    "    if agent_type_index == 0:\n",
    "        preferences = {\"type1\": 0.25, \"type2\": 0.75}\n",
    "    else:\n",
    "        preferences = {\"type1\": 0.1, \"type2\": 0.9}\n",
    "\n",
    "    agent = create_agent(i, agent_types[agent_type_index], location, preferences)\n",
    "    enviroment[location[\"row\"]][location[\"col\"]] = agent_type_index\n",
    "    agents.append(agent)\n",
    "\n",
    "enviroment"
   ]
  },
  {
   "cell_type": "code",
   "execution_count": 31,
   "metadata": {},
   "outputs": [
    {
     "output_type": "display_data",
     "data": {
      "text/plain": "<Figure size 640x480 with 1 Axes>",
      "image/svg+xml": "<?xml version=\"1.0\" encoding=\"utf-8\" standalone=\"no\"?>\n<!DOCTYPE svg PUBLIC \"-//W3C//DTD SVG 1.1//EN\"\n  \"http://www.w3.org/Graphics/SVG/1.1/DTD/svg11.dtd\">\n<svg xmlns:xlink=\"http://www.w3.org/1999/xlink\" width=\"309.777625pt\" height=\"297.190125pt\" viewBox=\"0 0 309.777625 297.190125\" xmlns=\"http://www.w3.org/2000/svg\" version=\"1.1\">\n <metadata>\n  <rdf:RDF xmlns:dc=\"http://purl.org/dc/elements/1.1/\" xmlns:cc=\"http://creativecommons.org/ns#\" xmlns:rdf=\"http://www.w3.org/1999/02/22-rdf-syntax-ns#\">\n   <cc:Work>\n    <dc:type rdf:resource=\"http://purl.org/dc/dcmitype/StillImage\"/>\n    <dc:date>2023-11-10T11:16:19.726752</dc:date>\n    <dc:format>image/svg+xml</dc:format>\n    <dc:creator>\n     <cc:Agent>\n      <dc:title>Matplotlib v3.7.2, https://matplotlib.org/</dc:title>\n     </cc:Agent>\n    </dc:creator>\n   </cc:Work>\n  </rdf:RDF>\n </metadata>\n <defs>\n  <style type=\"text/css\">*{stroke-linejoin: round; stroke-linecap: butt}</style>\n </defs>\n <g id=\"figure_1\">\n  <g id=\"patch_1\">\n   <path d=\"M 0 297.190125 \nL 309.777625 297.190125 \nL 309.777625 0 \nL 0 0 \nz\n\" style=\"fill: #ffffff\"/>\n  </g>\n  <g id=\"axes_1\">\n   <g id=\"patch_2\">\n    <path d=\"M 36.465625 273.312 \nL 302.577625 273.312 \nL 302.577625 7.2 \nL 36.465625 7.2 \nz\n\" style=\"fill: #ffffff\"/>\n   </g>\n   <g clip-path=\"url(#pf778894d31)\">\n    <image xlink:href=\"data:image/png;base64,\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\" id=\"image8c55d7733c\" transform=\"scale(1 -1) translate(0 -266.4)\" x=\"36.465625\" y=\"-6.912\" width=\"266.4\" height=\"266.4\"/>\n   </g>\n   <g id=\"matplotlib.axis_1\">\n    <g id=\"xtick_1\">\n     <g id=\"line2d_1\">\n      <defs>\n       <path id=\"m4df4ab51a8\" d=\"M 0 0 \nL 0 3.5 \n\" style=\"stroke: #000000; stroke-width: 0.8\"/>\n      </defs>\n      <g>\n       <use xlink:href=\"#m4df4ab51a8\" x=\"43.118425\" y=\"273.312\" style=\"stroke: #000000; stroke-width: 0.8\"/>\n      </g>\n     </g>\n     <g id=\"text_1\">\n      <!-- 0.0 -->\n      <g transform=\"translate(35.166862 287.910437) scale(0.1 -0.1)\">\n       <defs>\n        <path id=\"DejaVuSans-30\" d=\"M 2034 4250 \nQ 1547 4250 1301 3770 \nQ 1056 3291 1056 2328 \nQ 1056 1369 1301 889 \nQ 1547 409 2034 409 \nQ 2525 409 2770 889 \nQ 3016 1369 3016 2328 \nQ 3016 3291 2770 3770 \nQ 2525 4250 2034 4250 \nz\nM 2034 4750 \nQ 2819 4750 3233 4129 \nQ 3647 3509 3647 2328 \nQ 3647 1150 3233 529 \nQ 2819 -91 2034 -91 \nQ 1250 -91 836 529 \nQ 422 1150 422 2328 \nQ 422 3509 836 4129 \nQ 1250 4750 2034 4750 \nz\n\" transform=\"scale(0.015625)\"/>\n        <path id=\"DejaVuSans-2e\" d=\"M 684 794 \nL 1344 794 \nL 1344 0 \nL 684 0 \nL 684 794 \nz\n\" transform=\"scale(0.015625)\"/>\n       </defs>\n       <use xlink:href=\"#DejaVuSans-30\"/>\n       <use xlink:href=\"#DejaVuSans-2e\" x=\"63.623047\"/>\n       <use xlink:href=\"#DejaVuSans-30\" x=\"95.410156\"/>\n      </g>\n     </g>\n    </g>\n    <g id=\"xtick_2\">\n     <g id=\"line2d_2\">\n      <g>\n       <use xlink:href=\"#m4df4ab51a8\" x=\"76.382425\" y=\"273.312\" style=\"stroke: #000000; stroke-width: 0.8\"/>\n      </g>\n     </g>\n     <g id=\"text_2\">\n      <!-- 2.5 -->\n      <g transform=\"translate(68.430862 287.910437) scale(0.1 -0.1)\">\n       <defs>\n        <path id=\"DejaVuSans-32\" d=\"M 1228 531 \nL 3431 531 \nL 3431 0 \nL 469 0 \nL 469 531 \nQ 828 903 1448 1529 \nQ 2069 2156 2228 2338 \nQ 2531 2678 2651 2914 \nQ 2772 3150 2772 3378 \nQ 2772 3750 2511 3984 \nQ 2250 4219 1831 4219 \nQ 1534 4219 1204 4116 \nQ 875 4013 500 3803 \nL 500 4441 \nQ 881 4594 1212 4672 \nQ 1544 4750 1819 4750 \nQ 2544 4750 2975 4387 \nQ 3406 4025 3406 3419 \nQ 3406 3131 3298 2873 \nQ 3191 2616 2906 2266 \nQ 2828 2175 2409 1742 \nQ 1991 1309 1228 531 \nz\n\" transform=\"scale(0.015625)\"/>\n        <path id=\"DejaVuSans-35\" d=\"M 691 4666 \nL 3169 4666 \nL 3169 4134 \nL 1269 4134 \nL 1269 2991 \nQ 1406 3038 1543 3061 \nQ 1681 3084 1819 3084 \nQ 2600 3084 3056 2656 \nQ 3513 2228 3513 1497 \nQ 3513 744 3044 326 \nQ 2575 -91 1722 -91 \nQ 1428 -91 1123 -41 \nQ 819 9 494 109 \nL 494 744 \nQ 775 591 1075 516 \nQ 1375 441 1709 441 \nQ 2250 441 2565 725 \nQ 2881 1009 2881 1497 \nQ 2881 1984 2565 2268 \nQ 2250 2553 1709 2553 \nQ 1456 2553 1204 2497 \nQ 953 2441 691 2322 \nL 691 4666 \nz\n\" transform=\"scale(0.015625)\"/>\n       </defs>\n       <use xlink:href=\"#DejaVuSans-32\"/>\n       <use xlink:href=\"#DejaVuSans-2e\" x=\"63.623047\"/>\n       <use xlink:href=\"#DejaVuSans-35\" x=\"95.410156\"/>\n      </g>\n     </g>\n    </g>\n    <g id=\"xtick_3\">\n     <g id=\"line2d_3\">\n      <g>\n       <use xlink:href=\"#m4df4ab51a8\" x=\"109.646425\" y=\"273.312\" style=\"stroke: #000000; stroke-width: 0.8\"/>\n      </g>\n     </g>\n     <g id=\"text_3\">\n      <!-- 5.0 -->\n      <g transform=\"translate(101.694862 287.910437) scale(0.1 -0.1)\">\n       <use xlink:href=\"#DejaVuSans-35\"/>\n       <use xlink:href=\"#DejaVuSans-2e\" x=\"63.623047\"/>\n       <use xlink:href=\"#DejaVuSans-30\" x=\"95.410156\"/>\n      </g>\n     </g>\n    </g>\n    <g id=\"xtick_4\">\n     <g id=\"line2d_4\">\n      <g>\n       <use xlink:href=\"#m4df4ab51a8\" x=\"142.910425\" y=\"273.312\" style=\"stroke: #000000; stroke-width: 0.8\"/>\n      </g>\n     </g>\n     <g id=\"text_4\">\n      <!-- 7.5 -->\n      <g transform=\"translate(134.958862 287.910437) scale(0.1 -0.1)\">\n       <defs>\n        <path id=\"DejaVuSans-37\" d=\"M 525 4666 \nL 3525 4666 \nL 3525 4397 \nL 1831 0 \nL 1172 0 \nL 2766 4134 \nL 525 4134 \nL 525 4666 \nz\n\" transform=\"scale(0.015625)\"/>\n       </defs>\n       <use xlink:href=\"#DejaVuSans-37\"/>\n       <use xlink:href=\"#DejaVuSans-2e\" x=\"63.623047\"/>\n       <use xlink:href=\"#DejaVuSans-35\" x=\"95.410156\"/>\n      </g>\n     </g>\n    </g>\n    <g id=\"xtick_5\">\n     <g id=\"line2d_5\">\n      <g>\n       <use xlink:href=\"#m4df4ab51a8\" x=\"176.174425\" y=\"273.312\" style=\"stroke: #000000; stroke-width: 0.8\"/>\n      </g>\n     </g>\n     <g id=\"text_5\">\n      <!-- 10.0 -->\n      <g transform=\"translate(165.041612 287.910437) scale(0.1 -0.1)\">\n       <defs>\n        <path id=\"DejaVuSans-31\" d=\"M 794 531 \nL 1825 531 \nL 1825 4091 \nL 703 3866 \nL 703 4441 \nL 1819 4666 \nL 2450 4666 \nL 2450 531 \nL 3481 531 \nL 3481 0 \nL 794 0 \nL 794 531 \nz\n\" transform=\"scale(0.015625)\"/>\n       </defs>\n       <use xlink:href=\"#DejaVuSans-31\"/>\n       <use xlink:href=\"#DejaVuSans-30\" x=\"63.623047\"/>\n       <use xlink:href=\"#DejaVuSans-2e\" x=\"127.246094\"/>\n       <use xlink:href=\"#DejaVuSans-30\" x=\"159.033203\"/>\n      </g>\n     </g>\n    </g>\n    <g id=\"xtick_6\">\n     <g id=\"line2d_6\">\n      <g>\n       <use xlink:href=\"#m4df4ab51a8\" x=\"209.438425\" y=\"273.312\" style=\"stroke: #000000; stroke-width: 0.8\"/>\n      </g>\n     </g>\n     <g id=\"text_6\">\n      <!-- 12.5 -->\n      <g transform=\"translate(198.305612 287.910437) scale(0.1 -0.1)\">\n       <use xlink:href=\"#DejaVuSans-31\"/>\n       <use xlink:href=\"#DejaVuSans-32\" x=\"63.623047\"/>\n       <use xlink:href=\"#DejaVuSans-2e\" x=\"127.246094\"/>\n       <use xlink:href=\"#DejaVuSans-35\" x=\"159.033203\"/>\n      </g>\n     </g>\n    </g>\n    <g id=\"xtick_7\">\n     <g id=\"line2d_7\">\n      <g>\n       <use xlink:href=\"#m4df4ab51a8\" x=\"242.702425\" y=\"273.312\" style=\"stroke: #000000; stroke-width: 0.8\"/>\n      </g>\n     </g>\n     <g id=\"text_7\">\n      <!-- 15.0 -->\n      <g transform=\"translate(231.569612 287.910437) scale(0.1 -0.1)\">\n       <use xlink:href=\"#DejaVuSans-31\"/>\n       <use xlink:href=\"#DejaVuSans-35\" x=\"63.623047\"/>\n       <use xlink:href=\"#DejaVuSans-2e\" x=\"127.246094\"/>\n       <use xlink:href=\"#DejaVuSans-30\" x=\"159.033203\"/>\n      </g>\n     </g>\n    </g>\n    <g id=\"xtick_8\">\n     <g id=\"line2d_8\">\n      <g>\n       <use xlink:href=\"#m4df4ab51a8\" x=\"275.966425\" y=\"273.312\" style=\"stroke: #000000; stroke-width: 0.8\"/>\n      </g>\n     </g>\n     <g id=\"text_8\">\n      <!-- 17.5 -->\n      <g transform=\"translate(264.833612 287.910437) scale(0.1 -0.1)\">\n       <use xlink:href=\"#DejaVuSans-31\"/>\n       <use xlink:href=\"#DejaVuSans-37\" x=\"63.623047\"/>\n       <use xlink:href=\"#DejaVuSans-2e\" x=\"127.246094\"/>\n       <use xlink:href=\"#DejaVuSans-35\" x=\"159.033203\"/>\n      </g>\n     </g>\n    </g>\n   </g>\n   <g id=\"matplotlib.axis_2\">\n    <g id=\"ytick_1\">\n     <g id=\"line2d_9\">\n      <defs>\n       <path id=\"m4d167a1dd4\" d=\"M 0 0 \nL -3.5 0 \n\" style=\"stroke: #000000; stroke-width: 0.8\"/>\n      </defs>\n      <g>\n       <use xlink:href=\"#m4d167a1dd4\" x=\"36.465625\" y=\"13.8528\" style=\"stroke: #000000; stroke-width: 0.8\"/>\n      </g>\n     </g>\n     <g id=\"text_9\">\n      <!-- 0.0 -->\n      <g transform=\"translate(13.5625 17.652019) scale(0.1 -0.1)\">\n       <use xlink:href=\"#DejaVuSans-30\"/>\n       <use xlink:href=\"#DejaVuSans-2e\" x=\"63.623047\"/>\n       <use xlink:href=\"#DejaVuSans-30\" x=\"95.410156\"/>\n      </g>\n     </g>\n    </g>\n    <g id=\"ytick_2\">\n     <g id=\"line2d_10\">\n      <g>\n       <use xlink:href=\"#m4d167a1dd4\" x=\"36.465625\" y=\"47.1168\" style=\"stroke: #000000; stroke-width: 0.8\"/>\n      </g>\n     </g>\n     <g id=\"text_10\">\n      <!-- 2.5 -->\n      <g transform=\"translate(13.5625 50.916019) scale(0.1 -0.1)\">\n       <use xlink:href=\"#DejaVuSans-32\"/>\n       <use xlink:href=\"#DejaVuSans-2e\" x=\"63.623047\"/>\n       <use xlink:href=\"#DejaVuSans-35\" x=\"95.410156\"/>\n      </g>\n     </g>\n    </g>\n    <g id=\"ytick_3\">\n     <g id=\"line2d_11\">\n      <g>\n       <use xlink:href=\"#m4d167a1dd4\" x=\"36.465625\" y=\"80.3808\" style=\"stroke: #000000; stroke-width: 0.8\"/>\n      </g>\n     </g>\n     <g id=\"text_11\">\n      <!-- 5.0 -->\n      <g transform=\"translate(13.5625 84.180019) scale(0.1 -0.1)\">\n       <use xlink:href=\"#DejaVuSans-35\"/>\n       <use xlink:href=\"#DejaVuSans-2e\" x=\"63.623047\"/>\n       <use xlink:href=\"#DejaVuSans-30\" x=\"95.410156\"/>\n      </g>\n     </g>\n    </g>\n    <g id=\"ytick_4\">\n     <g id=\"line2d_12\">\n      <g>\n       <use xlink:href=\"#m4d167a1dd4\" x=\"36.465625\" y=\"113.6448\" style=\"stroke: #000000; stroke-width: 0.8\"/>\n      </g>\n     </g>\n     <g id=\"text_12\">\n      <!-- 7.5 -->\n      <g transform=\"translate(13.5625 117.444019) scale(0.1 -0.1)\">\n       <use xlink:href=\"#DejaVuSans-37\"/>\n       <use xlink:href=\"#DejaVuSans-2e\" x=\"63.623047\"/>\n       <use xlink:href=\"#DejaVuSans-35\" x=\"95.410156\"/>\n      </g>\n     </g>\n    </g>\n    <g id=\"ytick_5\">\n     <g id=\"line2d_13\">\n      <g>\n       <use xlink:href=\"#m4d167a1dd4\" x=\"36.465625\" y=\"146.9088\" style=\"stroke: #000000; stroke-width: 0.8\"/>\n      </g>\n     </g>\n     <g id=\"text_13\">\n      <!-- 10.0 -->\n      <g transform=\"translate(7.2 150.708019) scale(0.1 -0.1)\">\n       <use xlink:href=\"#DejaVuSans-31\"/>\n       <use xlink:href=\"#DejaVuSans-30\" x=\"63.623047\"/>\n       <use xlink:href=\"#DejaVuSans-2e\" x=\"127.246094\"/>\n       <use xlink:href=\"#DejaVuSans-30\" x=\"159.033203\"/>\n      </g>\n     </g>\n    </g>\n    <g id=\"ytick_6\">\n     <g id=\"line2d_14\">\n      <g>\n       <use xlink:href=\"#m4d167a1dd4\" x=\"36.465625\" y=\"180.1728\" style=\"stroke: #000000; stroke-width: 0.8\"/>\n      </g>\n     </g>\n     <g id=\"text_14\">\n      <!-- 12.5 -->\n      <g transform=\"translate(7.2 183.972019) scale(0.1 -0.1)\">\n       <use xlink:href=\"#DejaVuSans-31\"/>\n       <use xlink:href=\"#DejaVuSans-32\" x=\"63.623047\"/>\n       <use xlink:href=\"#DejaVuSans-2e\" x=\"127.246094\"/>\n       <use xlink:href=\"#DejaVuSans-35\" x=\"159.033203\"/>\n      </g>\n     </g>\n    </g>\n    <g id=\"ytick_7\">\n     <g id=\"line2d_15\">\n      <g>\n       <use xlink:href=\"#m4d167a1dd4\" x=\"36.465625\" y=\"213.4368\" style=\"stroke: #000000; stroke-width: 0.8\"/>\n      </g>\n     </g>\n     <g id=\"text_15\">\n      <!-- 15.0 -->\n      <g transform=\"translate(7.2 217.236019) scale(0.1 -0.1)\">\n       <use xlink:href=\"#DejaVuSans-31\"/>\n       <use xlink:href=\"#DejaVuSans-35\" x=\"63.623047\"/>\n       <use xlink:href=\"#DejaVuSans-2e\" x=\"127.246094\"/>\n       <use xlink:href=\"#DejaVuSans-30\" x=\"159.033203\"/>\n      </g>\n     </g>\n    </g>\n    <g id=\"ytick_8\">\n     <g id=\"line2d_16\">\n      <g>\n       <use xlink:href=\"#m4d167a1dd4\" x=\"36.465625\" y=\"246.7008\" style=\"stroke: #000000; stroke-width: 0.8\"/>\n      </g>\n     </g>\n     <g id=\"text_16\">\n      <!-- 17.5 -->\n      <g transform=\"translate(7.2 250.500019) scale(0.1 -0.1)\">\n       <use xlink:href=\"#DejaVuSans-31\"/>\n       <use xlink:href=\"#DejaVuSans-37\" x=\"63.623047\"/>\n       <use xlink:href=\"#DejaVuSans-2e\" x=\"127.246094\"/>\n       <use xlink:href=\"#DejaVuSans-35\" x=\"159.033203\"/>\n      </g>\n     </g>\n    </g>\n   </g>\n   <g id=\"patch_3\">\n    <path d=\"M 36.465625 273.312 \nL 36.465625 7.2 \n\" style=\"fill: none; stroke: #000000; stroke-width: 0.8; stroke-linejoin: miter; stroke-linecap: square\"/>\n   </g>\n   <g id=\"patch_4\">\n    <path d=\"M 302.577625 273.312 \nL 302.577625 7.2 \n\" style=\"fill: none; stroke: #000000; stroke-width: 0.8; stroke-linejoin: miter; stroke-linecap: square\"/>\n   </g>\n   <g id=\"patch_5\">\n    <path d=\"M 36.465625 273.312 \nL 302.577625 273.312 \n\" style=\"fill: none; stroke: #000000; stroke-width: 0.8; stroke-linejoin: miter; stroke-linecap: square\"/>\n   </g>\n   <g id=\"patch_6\">\n    <path d=\"M 36.465625 7.2 \nL 302.577625 7.2 \n\" style=\"fill: none; stroke: #000000; stroke-width: 0.8; stroke-linejoin: miter; stroke-linecap: square\"/>\n   </g>\n  </g>\n </g>\n <defs>\n  <clipPath id=\"pf778894d31\">\n   <rect x=\"36.465625\" y=\"7.2\" width=\"266.112\" height=\"266.112\"/>\n  </clipPath>\n </defs>\n</svg>\n",
      "image/png": "[encoded data removed]"
     },
     "metadata": {}
    }
   ],
   "source": [
    "import matplotlib.pyplot as plt \n",
    "\n",
    "_ = plt.figure()\n",
    "plt.imshow(enviroment)\n",
    "plt.show()"
   ]
  },
  {
   "cell_type": "code",
   "execution_count": 39,
   "metadata": {},
   "outputs": [
    {
     "output_type": "stream",
     "name": "stdout",
     "text": [
      "Failed to meet preferences. Agent will move.\n"
     ]
    }
   ],
   "source": [
    "agent = agents[0]\n",
    "agent_neighbors = get_neighbor_coords(agent[2][\"row\"], agent[2][\"col\"], n_rows=n_rows, n_cols=n_cols)\n",
    "\n",
    "neighbor_types = {\n",
    "    agent_types[0]: 0,\n",
    "    agent_types[1]: 0\n",
    "}\n",
    "\n",
    "# TODO: CHECK IF neighbor_types is computed correctly\n",
    "for neighbor in agent_neighbors:\n",
    "    # verific daca exista un agent la coord primului vecin\n",
    "    if enviroment[neighbor[\"row\"]][neighbor[\"col\"]] != -1:\n",
    "        # caut agentul care se gaseste la coord neigbor\n",
    "        for current_agent in agents:\n",
    "            # extrag tipul vecinului de la locatia respectiva\n",
    "            if current_agent[2][\"row\"] == neighbor[\"row\"] and current_agent[2][\"col\"] == neighbor[\"col\"]:\n",
    "                neighbor_type = current_agent[1]\n",
    "                \n",
    "                # cresc numarul de vecini de acelasi tip cu vecinul curent cu 1\n",
    "                neighbor_types[neighbor_type] = neighbor_types[neighbor_type] + 1\n",
    "\n",
    "type1_percentage = neighbor_types[\"type1\"] / len(agent_neighbors)\n",
    "\n",
    "if type1_percentage > agent[3][\"type1\"]:\n",
    "    print(\"Failed to meet preferences. Agent will move.\")\n",
    "else:\n",
    "    print(\"Preferences met. Agent does not move.\")\n"
   ]
  },
  {
   "cell_type": "code",
   "execution_count": 36,
   "metadata": {},
   "outputs": [
    {
     "output_type": "execute_result",
     "data": {
      "text/plain": [
       "[{'row': 0, 'col': 1},\n",
       " {'row': 1, 'col': 1},\n",
       " {'row': 2, 'col': 1},\n",
       " {'row': 0, 'col': 2},\n",
       " {'row': 2, 'col': 2},\n",
       " {'row': 0, 'col': 3},\n",
       " {'row': 1, 'col': 3},\n",
       " {'row': 2, 'col': 3}]"
      ]
     },
     "metadata": {},
     "execution_count": 36
    }
   ],
   "source": [
    "agent_neighbors"
   ]
  },
  {
   "cell_type": "code",
   "execution_count": null,
   "metadata": {},
   "outputs": [],
   "source": []
  }
 ],
 "metadata": {
  "kernelspec": {
   "display_name": "Python 3 (ipykernel)",
   "language": "python",
   "name": "python3"
  },
  "language_info": {
   "codemirror_mode": {
    "name": "ipython",
    "version": 3
   },
   "file_extension": ".py",
   "mimetype": "text/x-python",
   "name": "python",
   "nbconvert_exporter": "python",
   "pygments_lexer": "ipython3",
   "version": "3.8.16-final"
  }
 },
 "nbformat": 4,
 "nbformat_minor": 2
}