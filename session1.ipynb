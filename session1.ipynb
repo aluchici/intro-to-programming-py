{
 "cells": [
  {
   "cell_type": "markdown",
   "metadata": {},
   "source": [
    "Avem o populatie de agenti. fiecare agent are o preferinta \n",
    "asupra procentului de vecini care sa fie de acelasi tip. \n",
    "daca un agent este inconjurat de mai multi vecini de tipuri \n",
    "diferite decat poate \"tolera\", agentul se muta intr-o zona in \n",
    "care nu se intampla acest lucru. \n",
    "\n",
    "Pentru a evolua sistemul, la fiecare iteratie, alegem agenti la \n",
    "intamplare si stabilim daca acestia se muta sau nu.\n",
    "\n",
    "1. Definim un agent\n",
    "2. Definim un spatiu (mediu) unde se gasesc agentii\n",
    "3. Mecanism pentru a determina cati vecini are un agent\n",
    "4. Mecanism prin care sa determinam daca preferintele unui agent sunt incalcate\n",
    "5. Tipurile de agenti \n",
    "6. Lista de agenti \n",
    "7. Stabilim pentru fiecare agent ce preferinta are\n",
    "8. Un mecanism prin care sa determinam unde se pot muta \n",
    "9. Reguli pentru a defini preferintele?\n",
    "10. Un mecanism pentru a alege la intamplare agentii in timpul fiecarei iteratii \n",
    "a.i. sa nu alegem de mai multe ori acelasi agent\n",
    "11. Mecanism pentru a rula simularea pentru mai multe iteratii\n",
    "12. Sa vizualizam simularea (pas cu pas sau pentru fiecare iteratie)\n",
    "\n",
    "### ---- Pasul 1 ---- ###\n",
    "Ce date trebuie sa tinem minte pentru un agent?\n",
    "- id\n",
    "- preferintele\n",
    "- coordonate (locatie)\n",
    "- tipul\n",
    "\n",
    "Cum reprezentam in memorie un agent?\n",
    "\n",
    "- O lista cu toate informatiile \n",
    "- Un obiect \n",
    "- Dictionar (JSON)"
   ]
  },
  {
   "cell_type": "code",
   "execution_count": 6,
   "metadata": {},
   "outputs": [
    {
     "data": {
      "text/plain": [
       "[1, 'type1', [10, 20], [0.9, 0.1]]"
      ]
     },
     "execution_count": 6,
     "metadata": {},
     "output_type": "execute_result"
    }
   ],
   "source": [
    "# define agent types\n",
    "agent_types = [\"type1\", \"type2\"]\n",
    "\n",
    "# create an agent as an empty list\n",
    "agent = []\n",
    "\n",
    "# assign an id to our agent, 1\n",
    "agent.append(1)\n",
    "\n",
    "# assign a type \n",
    "agent.append(agent_types[0])\n",
    "\n",
    "# assign coordinates \n",
    "coord = [10, 20] # randul si coloana din spatiul 2D\n",
    "agent.append(coord)\n",
    "\n",
    "# assign preferences\n",
    "preferences = [0.9, 0.1]\n",
    "agent.append(preferences)\n",
    "\n",
    "agent"
   ]
  },
  {
   "cell_type": "code",
   "execution_count": 7,
   "metadata": {},
   "outputs": [
    {
     "data": {
      "text/plain": [
       "[10, 20]"
      ]
     },
     "execution_count": 7,
     "metadata": {},
     "output_type": "execute_result"
    }
   ],
   "source": [
    "agent[2] "
   ]
  },
  {
   "cell_type": "code",
   "execution_count": 9,
   "metadata": {},
   "outputs": [
    {
     "data": {
      "text/plain": [
       "[1, 'type1', [20, 14], [0.9, 0.1]]"
      ]
     },
     "execution_count": 9,
     "metadata": {},
     "output_type": "execute_result"
    }
   ],
   "source": [
    "agent[2] = [20, 14]\n",
    "agent"
   ]
  },
  {
   "cell_type": "code",
   "execution_count": 11,
   "metadata": {},
   "outputs": [],
   "source": [
    "# Define environment\n",
    "def create_environment(x_max=15, y_max=15):\n",
    "    environment = []\n",
    "    for i in range(y_max):\n",
    "        row = []\n",
    "        for j in range(x_max):\n",
    "            row.append(0)\n",
    "        environment.append(row)\n",
    "    return environment"
   ]
  },
  {
   "cell_type": "code",
   "execution_count": 12,
   "metadata": {},
   "outputs": [
    {
     "data": {
      "text/plain": [
       "[[0, 0, 0, 0, 0, 0, 0, 0, 0, 0],\n",
       " [0, 0, 0, 0, 0, 0, 0, 0, 0, 0],\n",
       " [0, 0, 0, 0, 0, 0, 0, 0, 0, 0],\n",
       " [0, 0, 0, 0, 0, 0, 0, 0, 0, 0],\n",
       " [0, 0, 0, 0, 0, 0, 0, 0, 0, 0],\n",
       " [0, 0, 0, 0, 0, 0, 0, 0, 0, 0],\n",
       " [0, 0, 0, 0, 0, 0, 0, 0, 0, 0],\n",
       " [0, 0, 0, 0, 0, 0, 0, 0, 0, 0],\n",
       " [0, 0, 0, 0, 0, 0, 0, 0, 0, 0],\n",
       " [0, 0, 0, 0, 0, 0, 0, 0, 0, 0]]"
      ]
     },
     "execution_count": 12,
     "metadata": {},
     "output_type": "execute_result"
    }
   ],
   "source": [
    "environment1 = create_environment(10, 10)\n",
    "environment1"
   ]
  },
  {
   "cell_type": "code",
   "execution_count": 13,
   "metadata": {},
   "outputs": [
    {
     "data": {
      "text/plain": [
       "[[0, 0, 0, 0, 0, 0, 0, 0, 0, 0, 0, 0, 0, 0, 0],\n",
       " [0, 0, 0, 0, 0, 0, 0, 0, 0, 0, 0, 0, 0, 0, 0],\n",
       " [0, 0, 0, 0, 0, 0, 0, 0, 0, 0, 0, 0, 0, 0, 0],\n",
       " [0, 0, 0, 0, 0, 0, 0, 0, 0, 0, 0, 0, 0, 0, 0],\n",
       " [0, 0, 0, 0, 0, 0, 0, 0, 0, 0, 0, 0, 0, 0, 0],\n",
       " [0, 0, 0, 0, 0, 0, 0, 0, 0, 0, 0, 0, 0, 0, 0],\n",
       " [0, 0, 0, 0, 0, 0, 0, 0, 0, 0, 0, 0, 0, 0, 0],\n",
       " [0, 0, 0, 0, 0, 0, 0, 0, 0, 0, 0, 0, 0, 0, 0],\n",
       " [0, 0, 0, 0, 0, 0, 0, 0, 0, 0, 0, 0, 0, 0, 0],\n",
       " [0, 0, 0, 0, 0, 0, 0, 0, 0, 0, 0, 0, 0, 0, 0],\n",
       " [0, 0, 0, 0, 0, 0, 0, 0, 0, 0, 0, 0, 0, 0, 0],\n",
       " [0, 0, 0, 0, 0, 0, 0, 0, 0, 0, 0, 0, 0, 0, 0],\n",
       " [0, 0, 0, 0, 0, 0, 0, 0, 0, 0, 0, 0, 0, 0, 0],\n",
       " [0, 0, 0, 0, 0, 0, 0, 0, 0, 0, 0, 0, 0, 0, 0],\n",
       " [0, 0, 0, 0, 0, 0, 0, 0, 0, 0, 0, 0, 0, 0, 0]]"
      ]
     },
     "execution_count": 13,
     "metadata": {},
     "output_type": "execute_result"
    }
   ],
   "source": [
    "environment2 = create_environment()\n",
    "environment2"
   ]
  },
  {
   "cell_type": "code",
   "execution_count": 14,
   "metadata": {},
   "outputs": [
    {
     "data": {
      "text/plain": [
       "[[0, 0, 0, 0, 0, 0, 0, 0, 0, 0],\n",
       " [0, 0, 0, 0, 0, 0, 0, 0, 0, 0],\n",
       " [0, 0, 0, 0, 0, 0, 0, 0, 0, 0],\n",
       " [0, 0, 0, 0, 0, 0, 0, 0, 0, 0],\n",
       " [0, 0, 0, 0, 0, 0, 0, 0, 0, 0],\n",
       " [0, 0, 0, 0, 0, 0, 0, 0, 0, 0],\n",
       " [0, 0, 0, 0, 0, 0, 0, 0, 0, 0],\n",
       " [0, 0, 0, 0, 0, 0, 0, 0, 0, 0],\n",
       " [0, 0, 0, 0, 0, 0, 0, 0, 0, 0],\n",
       " [0, 0, 0, 0, 0, 0, 0, 0, 0, 0],\n",
       " [0, 0, 0, 0, 0, 0, 0, 0, 0, 0],\n",
       " [0, 0, 0, 0, 0, 0, 0, 0, 0, 0],\n",
       " [0, 0, 0, 0, 0, 0, 0, 0, 0, 0],\n",
       " [0, 0, 0, 0, 0, 0, 0, 0, 0, 0],\n",
       " [0, 0, 0, 0, 0, 0, 0, 0, 0, 0]]"
      ]
     },
     "execution_count": 14,
     "metadata": {},
     "output_type": "execute_result"
    }
   ],
   "source": [
    "environment3 = create_environment(10)\n",
    "environment3"
   ]
  },
  {
   "cell_type": "code",
   "execution_count": 18,
   "metadata": {},
   "outputs": [],
   "source": [
    "def get_neighbor_coords(x, y, x_max, y_max):\n",
    "    # define matrix to specify neighbor coordinates\n",
    "    coords = [\n",
    "        [-1, -1],\n",
    "        [0, -1],\n",
    "        [1, -1],\n",
    "        [-1, 0],\n",
    "        [1, 0],\n",
    "        [-1, 1],\n",
    "        [0, 1],\n",
    "        [1, 1]\n",
    "    ]\n",
    "\n",
    "    # get coordinates for every neighbor, starting with (x, y)\n",
    "    neighbor_coords = []\n",
    "    for coord in coords:\n",
    "        neighbor = [x + coord[0], y + coord[1]]\n",
    "        # eliminate invalid neighbors\n",
    "        if neighbor[0] >= 0 and neighbor[0] < x_max and neighbor[1] >= 0 and neighbor[1] < y_max:\n",
    "            neighbor_coords.append(neighbor)\n",
    "    return neighbor_coords"
   ]
  },
  {
   "cell_type": "code",
   "execution_count": 20,
   "metadata": {},
   "outputs": [
    {
     "data": {
      "text/plain": [
       "[[4, 4], [5, 4], [6, 4], [4, 5], [6, 5], [4, 6], [5, 6], [6, 6]]"
      ]
     },
     "execution_count": 20,
     "metadata": {},
     "output_type": "execute_result"
    }
   ],
   "source": [
    "x_max = 10\n",
    "y_max = 15\n",
    "get_neighbor_coords(5, 5, x_max, y_max)"
   ]
  },
  {
   "cell_type": "code",
   "execution_count": null,
   "metadata": {},
   "outputs": [],
   "source": []
  }
 ],
 "metadata": {
  "kernelspec": {
   "display_name": "c2g",
   "language": "python",
   "name": "python3"
  },
  "language_info": {
   "codemirror_mode": {
    "name": "ipython",
    "version": 3
   },
   "file_extension": ".py",
   "mimetype": "text/x-python",
   "name": "python",
   "nbconvert_exporter": "python",
   "pygments_lexer": "ipython3",
   "version": "3.11.5"
  }
 },
 "nbformat": 4,
 "nbformat_minor": 2
}
