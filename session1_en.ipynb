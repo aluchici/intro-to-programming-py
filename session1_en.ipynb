{
 "cells": [
  {
   "cell_type": "markdown",
   "metadata": {},
   "source": [
    "# Segregration\n",
    "\n",
    "- We have different types of agents, i.e. Type 1 and Type 2. \n",
    "- Every agent type has a preference regarding the number of neighbors of a different type. \n",
    "- Every agent can ocupy just one place on the map. \n",
    "- If an agent has a different number of neighbors of different types compared to its preferences, then the agent randomly picks a new location. \n",
    "\n",
    "Develop a computer program to simulate this behaviour for an arbitrary number of iterations, where one iteration is a full check to see if all agents preferences are met. "
   ]
  },
  {
   "cell_type": "markdown",
   "metadata": {},
   "source": [
    "# Analysis \n",
    "\n",
    "- agents \n",
    "- map (environment)\n",
    "- mechanism for finding the neighbors of a given agent\n",
    "- a way to specify an agent's preferences \n",
    "- mechanism to select a random empty location\n",
    "- a way for the agent to check if the preferences are met\n",
    "- a way to create agents + map (initialize)\n",
    "- a way to move an agent to a specific location \n",
    "- a way to do (simulation):\n",
    "\n",
    " * pick an agent randomly\n",
    " * find neighbors\n",
    " * check if agent's preferences are met \n",
    " * if preferences are not met, find a new location for the agent\n",
    " * move the agent to a new location \n",
    " * repeat steps above for all agents \n",
    " * repeat steps above for a number of iterations\n"
   ]
  },
  {
   "cell_type": "code",
   "execution_count": null,
   "metadata": {},
   "outputs": [],
   "source": []
  },
  {
   "cell_type": "code",
   "execution_count": 1,
   "metadata": {},
   "outputs": [],
   "source": [
    "def create_map(n_rows=10, n_cols=10, init_value=0):\n",
    "    # create an empty list (called map)\n",
    "    map = []\n",
    "\n",
    "    # for every value between 0 and n_rows-1\n",
    "    for i in range(0, n_rows):\n",
    "        # create a row (list of n_col values) equal to 0\n",
    "        row = []\n",
    "        for j in range(0, n_cols):\n",
    "            row.append(init_value)\n",
    "\n",
    "        # add the newly row to the empty list (map)\n",
    "        map.append(row)\n",
    "\n",
    "    # return the map \n",
    "    return map "
   ]
  },
  {
   "cell_type": "code",
   "execution_count": 2,
   "metadata": {},
   "outputs": [
    {
     "data": {
      "text/plain": [
       "[[0, 0, 0, 0, 0, 0, 0, 0, 0, 0],\n",
       " [0, 0, 0, 0, 0, 0, 0, 0, 0, 0],\n",
       " [0, 0, 0, 0, 0, 0, 0, 0, 0, 0],\n",
       " [0, 0, 0, 0, 0, 0, 0, 0, 0, 0],\n",
       " [0, 0, 0, 0, 0, 0, 0, 0, 0, 0],\n",
       " [0, 0, 0, 0, 0, 0, 0, 0, 0, 0],\n",
       " [0, 0, 0, 0, 0, 0, 0, 0, 0, 0],\n",
       " [0, 0, 0, 0, 0, 0, 0, 0, 0, 0],\n",
       " [0, 0, 0, 0, 0, 0, 0, 0, 0, 0],\n",
       " [0, 0, 0, 0, 0, 0, 0, 0, 0, 0]]"
      ]
     },
     "execution_count": 2,
     "metadata": {},
     "output_type": "execute_result"
    }
   ],
   "source": [
    "create_map()"
   ]
  },
  {
   "cell_type": "code",
   "execution_count": 3,
   "metadata": {},
   "outputs": [
    {
     "data": {
      "text/plain": [
       "[[-1, -1, -1, -1, -1],\n",
       " [-1, -1, -1, -1, -1],\n",
       " [-1, -1, -1, -1, -1],\n",
       " [-1, -1, -1, -1, -1],\n",
       " [-1, -1, -1, -1, -1],\n",
       " [-1, -1, -1, -1, -1],\n",
       " [-1, -1, -1, -1, -1],\n",
       " [-1, -1, -1, -1, -1],\n",
       " [-1, -1, -1, -1, -1],\n",
       " [-1, -1, -1, -1, -1],\n",
       " [-1, -1, -1, -1, -1],\n",
       " [-1, -1, -1, -1, -1],\n",
       " [-1, -1, -1, -1, -1],\n",
       " [-1, -1, -1, -1, -1],\n",
       " [-1, -1, -1, -1, -1]]"
      ]
     },
     "execution_count": 3,
     "metadata": {},
     "output_type": "execute_result"
    }
   ],
   "source": [
    "create_map(15, 5, -1)"
   ]
  },
  {
   "cell_type": "code",
   "execution_count": 4,
   "metadata": {},
   "outputs": [
    {
     "data": {
      "text/plain": [
       "[[10, 10, 10, 10, 10],\n",
       " [10, 10, 10, 10, 10],\n",
       " [10, 10, 10, 10, 10],\n",
       " [10, 10, 10, 10, 10],\n",
       " [10, 10, 10, 10, 10],\n",
       " [10, 10, 10, 10, 10],\n",
       " [10, 10, 10, 10, 10],\n",
       " [10, 10, 10, 10, 10],\n",
       " [10, 10, 10, 10, 10],\n",
       " [10, 10, 10, 10, 10]]"
      ]
     },
     "execution_count": 4,
     "metadata": {},
     "output_type": "execute_result"
    }
   ],
   "source": [
    "create_map(n_rows=10, n_cols=5, init_value=10)"
   ]
  },
  {
   "cell_type": "code",
   "execution_count": 6,
   "metadata": {},
   "outputs": [
    {
     "data": {
      "text/plain": [
       "[[8, 9], [10, 9], [9, 8], [9, 10], [8, 8], [10, 8], [8, 10], [10, 10]]"
      ]
     },
     "execution_count": 6,
     "metadata": {},
     "output_type": "execute_result"
    }
   ],
   "source": [
    "# (x, y)\n",
    "# (x - 1, y)\n",
    "# (x + 1, y)\n",
    "# (x, y - 1)\n",
    "# (x, y + 1)\n",
    "# (x - 1, y - 1)\n",
    "# (x + 1, y - 1)\n",
    "# (x - 1, y + 1)\n",
    "# (x + 1, y + 1)\n",
    "def find_neighbor_coords(x, y):\n",
    "    # create a list with all the possible neighbor coordinates\n",
    "    neighbor_coors = [\n",
    "        [x - 1, y],\n",
    "        [x + 1, y],\n",
    "        [x, y - 1],\n",
    "        [x, y + 1],\n",
    "        [x - 1, y - 1],\n",
    "        [x + 1, y - 1],\n",
    "        [x - 1, y + 1],\n",
    "        [x + 1, y + 1]\n",
    "    ]\n",
    "    # TODO: remove invalid neigbors \n",
    "\n",
    "    return neighbor_coors\n",
    "\n",
    "find_neighbor_coords(9, 9)\n"
   ]
  },
  {
   "cell_type": "code",
   "execution_count": null,
   "metadata": {},
   "outputs": [],
   "source": []
  }
 ],
 "metadata": {
  "kernelspec": {
   "display_name": "c2g",
   "language": "python",
   "name": "python3"
  },
  "language_info": {
   "codemirror_mode": {
    "name": "ipython",
    "version": 3
   },
   "file_extension": ".py",
   "mimetype": "text/x-python",
   "name": "python",
   "nbconvert_exporter": "python",
   "pygments_lexer": "ipython3",
   "version": "3.11.5"
  }
 },
 "nbformat": 4,
 "nbformat_minor": 2
}
